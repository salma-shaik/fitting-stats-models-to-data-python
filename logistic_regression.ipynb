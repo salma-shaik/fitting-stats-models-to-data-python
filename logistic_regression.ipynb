{
 "cells": [
  {
   "cell_type": "code",
   "execution_count": 2,
   "metadata": {},
   "outputs": [],
   "source": [
    "%matplotlib inline\n",
    "import matplotlib.pyplot as plt\n",
    "import seaborn as sns\n",
    "import pandas as pd\n",
    "import statsmodels.api as sm\n",
    "import numpy as np"
   ]
  },
  {
   "cell_type": "code",
   "execution_count": 3,
   "metadata": {},
   "outputs": [],
   "source": [
    "# Read the 2015-2016 wave of NHANES data\n",
    "da = pd.read_csv(\"data/nhanes_2015_2016.csv\")\n",
    "\n",
    "# Drop unused columns, and drop rows with any missing values.\n",
    "vars = [\"BPXSY1\", \"RIDAGEYR\", \"RIAGENDR\", \"RIDRETH1\", \"DMDEDUC2\", \"BMXBMI\", \"SMQ020\"]\n",
    "da = da[vars].dropna()"
   ]
  },
  {
   "cell_type": "markdown",
   "metadata": {},
   "source": [
    "#### We now turn to regression models for binary outcome variables, meaning an outcome that can take on only two distinct values. For illustration, we will work with the NHANES variable SMQ020, which asks whether a person has smoked at least 100 cigarettes in their lifetime (if this is the case, we say that the person has a \"smoking history\"). Below we create a version of this variable in which smoking and non-smoking are coded as 1 and 0, respectively, and rare responses like don't know and refused to answer are coded as missing values."
   ]
  },
  {
   "cell_type": "code",
   "execution_count": 4,
   "metadata": {},
   "outputs": [],
   "source": [
    "da['smq'] = da.SMQ020.replace({2: 0, 7: np.nan, 9: np.nan})"
   ]
  },
  {
   "cell_type": "markdown",
   "metadata": {},
   "source": [
    "### Odds and log odds"
   ]
  },
  {
   "cell_type": "markdown",
   "metadata": {},
   "source": [
    "#### Logistic regression provides a model for the odds of an event happening. Recall that if an event has probability p, then the odds for this event is p/(1-p). The odds is a mathematical transformation of the probability onto a different scale. For example, if the probability is 1/2, then the odds is 1."
   ]
  },
  {
   "cell_type": "code",
   "execution_count": 7,
   "metadata": {},
   "outputs": [],
   "source": [
    "# Create a labeled version of the gender variable\n",
    "da[\"RIAGENDRx\"] = da.RIAGENDR.replace({1: \"Male\", 2: \"Female\"})"
   ]
  },
  {
   "cell_type": "code",
   "execution_count": 8,
   "metadata": {},
   "outputs": [
    {
     "data": {
      "text/html": [
       "<div>\n",
       "<style scoped>\n",
       "    .dataframe tbody tr th:only-of-type {\n",
       "        vertical-align: middle;\n",
       "    }\n",
       "\n",
       "    .dataframe tbody tr th {\n",
       "        vertical-align: top;\n",
       "    }\n",
       "\n",
       "    .dataframe thead th {\n",
       "        text-align: right;\n",
       "    }\n",
       "</style>\n",
       "<table border=\"1\" class=\"dataframe\">\n",
       "  <thead>\n",
       "    <tr style=\"text-align: right;\">\n",
       "      <th>smq</th>\n",
       "      <th>0.0</th>\n",
       "      <th>1.0</th>\n",
       "      <th>odds</th>\n",
       "    </tr>\n",
       "    <tr>\n",
       "      <th>RIAGENDRx</th>\n",
       "      <th></th>\n",
       "      <th></th>\n",
       "      <th></th>\n",
       "    </tr>\n",
       "  </thead>\n",
       "  <tbody>\n",
       "    <tr>\n",
       "      <th>Female</th>\n",
       "      <td>0.680197</td>\n",
       "      <td>0.319803</td>\n",
       "      <td>0.470162</td>\n",
       "    </tr>\n",
       "    <tr>\n",
       "      <th>Male</th>\n",
       "      <td>0.467453</td>\n",
       "      <td>0.532547</td>\n",
       "      <td>1.139252</td>\n",
       "    </tr>\n",
       "  </tbody>\n",
       "</table>\n",
       "</div>"
      ],
      "text/plain": [
       "smq             0.0       1.0      odds\n",
       "RIAGENDRx                              \n",
       "Female     0.680197  0.319803  0.470162\n",
       "Male       0.467453  0.532547  1.139252"
      ]
     },
     "execution_count": 8,
     "metadata": {},
     "output_type": "execute_result"
    }
   ],
   "source": [
    "## Let's look at the odds of alcohol use for women and men separately.\n",
    "c = pd.crosstab(da.RIAGENDRx, da.smq).apply(lambda x: x/x.sum(), axis=1)\n",
    "c['odds'] = c.loc[:, 1] / c.loc[:, 0]\n",
    "c"
   ]
  },
  {
   "cell_type": "markdown",
   "metadata": {},
   "source": [
    "#### We see that the probability that a woman has ever smoked is substantially lower than the probability that a man has ever smoked (30% versus 51%). This is reflected in the odds for a woman smoking being much less than 1 (around 0.47), while the odds for a man smoking is around 1.14.\n",
    "\n",
    "#### It is common to work with odds ratios when comparing two groups. This is simply the odds for one group divided by the odds for the other group. The odds ratio for smoking, comparing males to females, is around 2.4. In other words, a man has around 2.4 times greater odds of smoking than a woman (in the population represented by these data)"
   ]
  },
  {
   "cell_type": "code",
   "execution_count": 9,
   "metadata": {},
   "outputs": [
    {
     "data": {
      "text/plain": [
       "2.423105552613186"
      ]
     },
     "execution_count": 9,
     "metadata": {},
     "output_type": "execute_result"
    }
   ],
   "source": [
    "c.odds.Male / c.odds.Female"
   ]
  },
  {
   "cell_type": "code",
   "execution_count": 10,
   "metadata": {},
   "outputs": [
    {
     "data": {
      "text/html": [
       "<div>\n",
       "<style scoped>\n",
       "    .dataframe tbody tr th:only-of-type {\n",
       "        vertical-align: middle;\n",
       "    }\n",
       "\n",
       "    .dataframe tbody tr th {\n",
       "        vertical-align: top;\n",
       "    }\n",
       "\n",
       "    .dataframe thead th {\n",
       "        text-align: right;\n",
       "    }\n",
       "</style>\n",
       "<table border=\"1\" class=\"dataframe\">\n",
       "  <thead>\n",
       "    <tr style=\"text-align: right;\">\n",
       "      <th>smq</th>\n",
       "      <th>0.0</th>\n",
       "      <th>1.0</th>\n",
       "      <th>odds</th>\n",
       "      <th>logodds</th>\n",
       "    </tr>\n",
       "    <tr>\n",
       "      <th>RIAGENDRx</th>\n",
       "      <th></th>\n",
       "      <th></th>\n",
       "      <th></th>\n",
       "      <th></th>\n",
       "    </tr>\n",
       "  </thead>\n",
       "  <tbody>\n",
       "    <tr>\n",
       "      <th>Female</th>\n",
       "      <td>0.680197</td>\n",
       "      <td>0.319803</td>\n",
       "      <td>0.470162</td>\n",
       "      <td>-0.754679</td>\n",
       "    </tr>\n",
       "    <tr>\n",
       "      <th>Male</th>\n",
       "      <td>0.467453</td>\n",
       "      <td>0.532547</td>\n",
       "      <td>1.139252</td>\n",
       "      <td>0.130371</td>\n",
       "    </tr>\n",
       "  </tbody>\n",
       "</table>\n",
       "</div>"
      ],
      "text/plain": [
       "smq             0.0       1.0      odds   logodds\n",
       "RIAGENDRx                                        \n",
       "Female     0.680197  0.319803  0.470162 -0.754679\n",
       "Male       0.467453  0.532547  1.139252  0.130371"
      ]
     },
     "execution_count": 10,
     "metadata": {},
     "output_type": "execute_result"
    }
   ],
   "source": [
    "c['logodds'] = np.log(c.odds)\n",
    "c"
   ]
  },
  {
   "cell_type": "markdown",
   "metadata": {},
   "source": [
    "## A basic logistic regression model"
   ]
  },
  {
   "cell_type": "code",
   "execution_count": 11,
   "metadata": {},
   "outputs": [
    {
     "data": {
      "text/html": [
       "<table class=\"simpletable\">\n",
       "<caption>Generalized Linear Model Regression Results</caption>\n",
       "<tr>\n",
       "  <th>Dep. Variable:</th>          <td>smq</td>       <th>  No. Observations:  </th>  <td>  5094</td> \n",
       "</tr>\n",
       "<tr>\n",
       "  <th>Model:</th>                  <td>GLM</td>       <th>  Df Residuals:      </th>  <td>  5092</td> \n",
       "</tr>\n",
       "<tr>\n",
       "  <th>Model Family:</th>        <td>Binomial</td>     <th>  Df Model:          </th>  <td>     1</td> \n",
       "</tr>\n",
       "<tr>\n",
       "  <th>Link Function:</th>         <td>logit</td>      <th>  Scale:             </th> <td>  1.0000</td>\n",
       "</tr>\n",
       "<tr>\n",
       "  <th>Method:</th>                <td>IRLS</td>       <th>  Log-Likelihood:    </th> <td> -3350.6</td>\n",
       "</tr>\n",
       "<tr>\n",
       "  <th>Date:</th>            <td>Mon, 16 Mar 2020</td> <th>  Deviance:          </th> <td>  6701.2</td>\n",
       "</tr>\n",
       "<tr>\n",
       "  <th>Time:</th>                <td>18:02:42</td>     <th>  Pearson chi2:      </th> <td>5.09e+03</td>\n",
       "</tr>\n",
       "<tr>\n",
       "  <th>No. Iterations:</th>          <td>4</td>        <th>                     </th>     <td> </td>   \n",
       "</tr>\n",
       "<tr>\n",
       "  <th>Covariance Type:</th>     <td>nonrobust</td>    <th>                     </th>     <td> </td>   \n",
       "</tr>\n",
       "</table>\n",
       "<table class=\"simpletable\">\n",
       "<tr>\n",
       "          <td></td>             <th>coef</th>     <th>std err</th>      <th>z</th>      <th>P>|z|</th>  <th>[0.025</th>    <th>0.975]</th>  \n",
       "</tr>\n",
       "<tr>\n",
       "  <th>Intercept</th>         <td>   -0.7547</td> <td>    0.042</td> <td>  -18.071</td> <td> 0.000</td> <td>   -0.837</td> <td>   -0.673</td>\n",
       "</tr>\n",
       "<tr>\n",
       "  <th>RIAGENDRx[T.Male]</th> <td>    0.8851</td> <td>    0.058</td> <td>   15.227</td> <td> 0.000</td> <td>    0.771</td> <td>    0.999</td>\n",
       "</tr>\n",
       "</table>"
      ],
      "text/plain": [
       "<class 'statsmodels.iolib.summary.Summary'>\n",
       "\"\"\"\n",
       "                 Generalized Linear Model Regression Results                  \n",
       "==============================================================================\n",
       "Dep. Variable:                    smq   No. Observations:                 5094\n",
       "Model:                            GLM   Df Residuals:                     5092\n",
       "Model Family:                Binomial   Df Model:                            1\n",
       "Link Function:                  logit   Scale:                          1.0000\n",
       "Method:                          IRLS   Log-Likelihood:                -3350.6\n",
       "Date:                Mon, 16 Mar 2020   Deviance:                       6701.2\n",
       "Time:                        18:02:42   Pearson chi2:                 5.09e+03\n",
       "No. Iterations:                     4                                         \n",
       "Covariance Type:            nonrobust                                         \n",
       "=====================================================================================\n",
       "                        coef    std err          z      P>|z|      [0.025      0.975]\n",
       "-------------------------------------------------------------------------------------\n",
       "Intercept            -0.7547      0.042    -18.071      0.000      -0.837      -0.673\n",
       "RIAGENDRx[T.Male]     0.8851      0.058     15.227      0.000       0.771       0.999\n",
       "=====================================================================================\n",
       "\"\"\""
      ]
     },
     "execution_count": 11,
     "metadata": {},
     "output_type": "execute_result"
    }
   ],
   "source": [
    "model = sm.GLM.from_formula('smq ~ RIAGENDRx', family = sm.families.Binomial(), data=da)\n",
    "result = model.fit()\n",
    "result.summary()"
   ]
  },
  {
   "cell_type": "code",
   "execution_count": 12,
   "metadata": {},
   "outputs": [
    {
     "data": {
      "text/plain": [
       "0.8850500036644218"
      ]
     },
     "execution_count": 12,
     "metadata": {},
     "output_type": "execute_result"
    }
   ],
   "source": [
    "c.logodds.Male - c.logodds.Female"
   ]
  },
  {
   "cell_type": "markdown",
   "metadata": {},
   "source": [
    "#### Logistic regression coefficient for male gender is exactly equal to the difference between the log odds statistics for males and females. This relationship will always hold when conducting a logistic regression with a single binary covariate."
   ]
  },
  {
   "cell_type": "markdown",
   "metadata": {},
   "source": [
    "## Adding additional covariates"
   ]
  },
  {
   "cell_type": "code",
   "execution_count": 13,
   "metadata": {},
   "outputs": [
    {
     "data": {
      "text/html": [
       "<table class=\"simpletable\">\n",
       "<caption>Generalized Linear Model Regression Results</caption>\n",
       "<tr>\n",
       "  <th>Dep. Variable:</th>          <td>smq</td>       <th>  No. Observations:  </th>  <td>  5094</td> \n",
       "</tr>\n",
       "<tr>\n",
       "  <th>Model:</th>                  <td>GLM</td>       <th>  Df Residuals:      </th>  <td>  5091</td> \n",
       "</tr>\n",
       "<tr>\n",
       "  <th>Model Family:</th>        <td>Binomial</td>     <th>  Df Model:          </th>  <td>     2</td> \n",
       "</tr>\n",
       "<tr>\n",
       "  <th>Link Function:</th>         <td>logit</td>      <th>  Scale:             </th> <td>  1.0000</td>\n",
       "</tr>\n",
       "<tr>\n",
       "  <th>Method:</th>                <td>IRLS</td>       <th>  Log-Likelihood:    </th> <td> -3296.6</td>\n",
       "</tr>\n",
       "<tr>\n",
       "  <th>Date:</th>            <td>Mon, 16 Mar 2020</td> <th>  Deviance:          </th> <td>  6593.2</td>\n",
       "</tr>\n",
       "<tr>\n",
       "  <th>Time:</th>                <td>18:06:59</td>     <th>  Pearson chi2:      </th> <td>5.10e+03</td>\n",
       "</tr>\n",
       "<tr>\n",
       "  <th>No. Iterations:</th>          <td>4</td>        <th>                     </th>     <td> </td>   \n",
       "</tr>\n",
       "<tr>\n",
       "  <th>Covariance Type:</th>     <td>nonrobust</td>    <th>                     </th>     <td> </td>   \n",
       "</tr>\n",
       "</table>\n",
       "<table class=\"simpletable\">\n",
       "<tr>\n",
       "          <td></td>             <th>coef</th>     <th>std err</th>      <th>z</th>      <th>P>|z|</th>  <th>[0.025</th>    <th>0.975]</th>  \n",
       "</tr>\n",
       "<tr>\n",
       "  <th>Intercept</th>         <td>   -1.6166</td> <td>    0.095</td> <td>  -16.985</td> <td> 0.000</td> <td>   -1.803</td> <td>   -1.430</td>\n",
       "</tr>\n",
       "<tr>\n",
       "  <th>RIAGENDRx[T.Male]</th> <td>    0.8920</td> <td>    0.059</td> <td>   15.170</td> <td> 0.000</td> <td>    0.777</td> <td>    1.007</td>\n",
       "</tr>\n",
       "<tr>\n",
       "  <th>RIDAGEYR</th>          <td>    0.0172</td> <td>    0.002</td> <td>   10.289</td> <td> 0.000</td> <td>    0.014</td> <td>    0.021</td>\n",
       "</tr>\n",
       "</table>"
      ],
      "text/plain": [
       "<class 'statsmodels.iolib.summary.Summary'>\n",
       "\"\"\"\n",
       "                 Generalized Linear Model Regression Results                  \n",
       "==============================================================================\n",
       "Dep. Variable:                    smq   No. Observations:                 5094\n",
       "Model:                            GLM   Df Residuals:                     5091\n",
       "Model Family:                Binomial   Df Model:                            2\n",
       "Link Function:                  logit   Scale:                          1.0000\n",
       "Method:                          IRLS   Log-Likelihood:                -3296.6\n",
       "Date:                Mon, 16 Mar 2020   Deviance:                       6593.2\n",
       "Time:                        18:06:59   Pearson chi2:                 5.10e+03\n",
       "No. Iterations:                     4                                         \n",
       "Covariance Type:            nonrobust                                         \n",
       "=====================================================================================\n",
       "                        coef    std err          z      P>|z|      [0.025      0.975]\n",
       "-------------------------------------------------------------------------------------\n",
       "Intercept            -1.6166      0.095    -16.985      0.000      -1.803      -1.430\n",
       "RIAGENDRx[T.Male]     0.8920      0.059     15.170      0.000       0.777       1.007\n",
       "RIDAGEYR              0.0172      0.002     10.289      0.000       0.014       0.021\n",
       "=====================================================================================\n",
       "\"\"\""
      ]
     },
     "execution_count": 13,
     "metadata": {},
     "output_type": "execute_result"
    }
   ],
   "source": [
    "model = sm.GLM.from_formula(\"smq ~ RIDAGEYR + RIAGENDRx\", family=sm.families.Binomial(), data=da)\n",
    "result = model.fit()\n",
    "result.summary()"
   ]
  },
  {
   "cell_type": "code",
   "execution_count": 14,
   "metadata": {},
   "outputs": [
    {
     "data": {
      "text/html": [
       "<table class=\"simpletable\">\n",
       "<caption>Generalized Linear Model Regression Results</caption>\n",
       "<tr>\n",
       "  <th>Dep. Variable:</th>          <td>smq</td>       <th>  No. Observations:  </th>  <td>  5093</td> \n",
       "</tr>\n",
       "<tr>\n",
       "  <th>Model:</th>                  <td>GLM</td>       <th>  Df Residuals:      </th>  <td>  5086</td> \n",
       "</tr>\n",
       "<tr>\n",
       "  <th>Model Family:</th>        <td>Binomial</td>     <th>  Df Model:          </th>  <td>     6</td> \n",
       "</tr>\n",
       "<tr>\n",
       "  <th>Link Function:</th>         <td>logit</td>      <th>  Scale:             </th> <td>  1.0000</td>\n",
       "</tr>\n",
       "<tr>\n",
       "  <th>Method:</th>                <td>IRLS</td>       <th>  Log-Likelihood:    </th> <td> -3201.2</td>\n",
       "</tr>\n",
       "<tr>\n",
       "  <th>Date:</th>            <td>Tue, 17 Mar 2020</td> <th>  Deviance:          </th> <td>  6402.4</td>\n",
       "</tr>\n",
       "<tr>\n",
       "  <th>Time:</th>                <td>08:37:13</td>     <th>  Pearson chi2:      </th> <td>5.10e+03</td>\n",
       "</tr>\n",
       "<tr>\n",
       "  <th>No. Iterations:</th>          <td>4</td>        <th>                     </th>     <td> </td>   \n",
       "</tr>\n",
       "<tr>\n",
       "  <th>Covariance Type:</th>     <td>nonrobust</td>    <th>                     </th>     <td> </td>   \n",
       "</tr>\n",
       "</table>\n",
       "<table class=\"simpletable\">\n",
       "<tr>\n",
       "              <td></td>                <th>coef</th>     <th>std err</th>      <th>z</th>      <th>P>|z|</th>  <th>[0.025</th>    <th>0.975]</th>  \n",
       "</tr>\n",
       "<tr>\n",
       "  <th>Intercept</th>                <td>   -2.3060</td> <td>    0.114</td> <td>  -20.174</td> <td> 0.000</td> <td>   -2.530</td> <td>   -2.082</td>\n",
       "</tr>\n",
       "<tr>\n",
       "  <th>RIAGENDRx[T.Male]</th>        <td>    0.9096</td> <td>    0.060</td> <td>   15.118</td> <td> 0.000</td> <td>    0.792</td> <td>    1.028</td>\n",
       "</tr>\n",
       "<tr>\n",
       "  <th>DMDEDUC2x[T.HS]</th>          <td>    0.9434</td> <td>    0.090</td> <td>   10.521</td> <td> 0.000</td> <td>    0.768</td> <td>    1.119</td>\n",
       "</tr>\n",
       "<tr>\n",
       "  <th>DMDEDUC2x[T.SomeCollege]</th> <td>    0.8322</td> <td>    0.084</td> <td>    9.865</td> <td> 0.000</td> <td>    0.667</td> <td>    0.998</td>\n",
       "</tr>\n",
       "<tr>\n",
       "  <th>DMDEDUC2x[T.lt9]</th>         <td>    0.2662</td> <td>    0.109</td> <td>    2.438</td> <td> 0.015</td> <td>    0.052</td> <td>    0.480</td>\n",
       "</tr>\n",
       "<tr>\n",
       "  <th>DMDEDUC2x[T.x9_11]</th>       <td>    1.0986</td> <td>    0.107</td> <td>   10.296</td> <td> 0.000</td> <td>    0.889</td> <td>    1.308</td>\n",
       "</tr>\n",
       "<tr>\n",
       "  <th>RIDAGEYR</th>                 <td>    0.0183</td> <td>    0.002</td> <td>   10.582</td> <td> 0.000</td> <td>    0.015</td> <td>    0.022</td>\n",
       "</tr>\n",
       "</table>"
      ],
      "text/plain": [
       "<class 'statsmodels.iolib.summary.Summary'>\n",
       "\"\"\"\n",
       "                 Generalized Linear Model Regression Results                  \n",
       "==============================================================================\n",
       "Dep. Variable:                    smq   No. Observations:                 5093\n",
       "Model:                            GLM   Df Residuals:                     5086\n",
       "Model Family:                Binomial   Df Model:                            6\n",
       "Link Function:                  logit   Scale:                          1.0000\n",
       "Method:                          IRLS   Log-Likelihood:                -3201.2\n",
       "Date:                Tue, 17 Mar 2020   Deviance:                       6402.4\n",
       "Time:                        08:37:13   Pearson chi2:                 5.10e+03\n",
       "No. Iterations:                     4                                         \n",
       "Covariance Type:            nonrobust                                         \n",
       "============================================================================================\n",
       "                               coef    std err          z      P>|z|      [0.025      0.975]\n",
       "--------------------------------------------------------------------------------------------\n",
       "Intercept                   -2.3060      0.114    -20.174      0.000      -2.530      -2.082\n",
       "RIAGENDRx[T.Male]            0.9096      0.060     15.118      0.000       0.792       1.028\n",
       "DMDEDUC2x[T.HS]              0.9434      0.090     10.521      0.000       0.768       1.119\n",
       "DMDEDUC2x[T.SomeCollege]     0.8322      0.084      9.865      0.000       0.667       0.998\n",
       "DMDEDUC2x[T.lt9]             0.2662      0.109      2.438      0.015       0.052       0.480\n",
       "DMDEDUC2x[T.x9_11]           1.0986      0.107     10.296      0.000       0.889       1.308\n",
       "RIDAGEYR                     0.0183      0.002     10.582      0.000       0.015       0.022\n",
       "============================================================================================\n",
       "\"\"\""
      ]
     },
     "execution_count": 14,
     "metadata": {},
     "output_type": "execute_result"
    }
   ],
   "source": [
    "# Create a labeled version of the educational attainment variable\n",
    "da[\"DMDEDUC2x\"] = da.DMDEDUC2.replace({1: \"lt9\", 2: \"x9_11\", 3: \"HS\", 4: \"SomeCollege\",\n",
    "                                       5: \"College\", 7: np.nan, 9: np.nan})\n",
    "\n",
    "model = sm.GLM.from_formula(\"smq ~ RIDAGEYR + RIAGENDRx + DMDEDUC2x\", family=sm.families.Binomial(), data=da)\n",
    "result = model.fit()\n",
    "result.summary()"
   ]
  },
  {
   "cell_type": "markdown",
   "metadata": {},
   "source": [
    "## Visualization of the fitted models"
   ]
  },
  {
   "cell_type": "code",
   "execution_count": null,
   "metadata": {},
   "outputs": [],
   "source": []
  },
  {
   "cell_type": "code",
   "execution_count": null,
   "metadata": {},
   "outputs": [],
   "source": []
  },
  {
   "cell_type": "code",
   "execution_count": null,
   "metadata": {},
   "outputs": [],
   "source": []
  },
  {
   "cell_type": "code",
   "execution_count": null,
   "metadata": {},
   "outputs": [],
   "source": []
  },
  {
   "cell_type": "code",
   "execution_count": null,
   "metadata": {},
   "outputs": [],
   "source": []
  },
  {
   "cell_type": "code",
   "execution_count": null,
   "metadata": {},
   "outputs": [],
   "source": []
  },
  {
   "cell_type": "code",
   "execution_count": null,
   "metadata": {},
   "outputs": [],
   "source": []
  },
  {
   "cell_type": "code",
   "execution_count": null,
   "metadata": {},
   "outputs": [],
   "source": []
  },
  {
   "cell_type": "code",
   "execution_count": null,
   "metadata": {},
   "outputs": [],
   "source": []
  },
  {
   "cell_type": "code",
   "execution_count": null,
   "metadata": {},
   "outputs": [],
   "source": []
  },
  {
   "cell_type": "code",
   "execution_count": null,
   "metadata": {},
   "outputs": [],
   "source": []
  },
  {
   "cell_type": "code",
   "execution_count": null,
   "metadata": {},
   "outputs": [],
   "source": []
  },
  {
   "cell_type": "code",
   "execution_count": null,
   "metadata": {},
   "outputs": [],
   "source": []
  }
 ],
 "metadata": {
  "kernelspec": {
   "display_name": "ds_tutorials",
   "language": "python",
   "name": "ds_tutorials"
  },
  "language_info": {
   "codemirror_mode": {
    "name": "ipython",
    "version": 3
   },
   "file_extension": ".py",
   "mimetype": "text/x-python",
   "name": "python",
   "nbconvert_exporter": "python",
   "pygments_lexer": "ipython3",
   "version": "3.8.1"
  }
 },
 "nbformat": 4,
 "nbformat_minor": 4
}
