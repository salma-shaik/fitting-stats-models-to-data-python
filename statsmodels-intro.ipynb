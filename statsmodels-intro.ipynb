{
 "cells": [
  {
   "cell_type": "markdown",
   "metadata": {},
   "source": [
    "## StatsModels\n",
    "#### statistical methods, tests, regression, time-series analysis, multivariate statistics"
   ]
  },
  {
   "cell_type": "code",
   "execution_count": 1,
   "metadata": {},
   "outputs": [],
   "source": [
    "import statsmodels.api as sm\n",
    "import numpy as np"
   ]
  },
  {
   "cell_type": "code",
   "execution_count": 4,
   "metadata": {},
   "outputs": [
    {
     "name": "stdout",
     "output_type": "stream",
     "text": [
      "<statsmodels.stats.weightstats.DescrStatsW object at 0x1c19992f40>\n"
     ]
    }
   ],
   "source": [
    "normRandVars = np.random.normal(0, 1, 1000)\n",
    "\n",
    "x = sm.stats.DescrStatsW(normRandVars)\n",
    "\n",
    "print(x)"
   ]
  },
  {
   "cell_type": "code",
   "execution_count": 5,
   "metadata": {},
   "outputs": [
    {
     "name": "stdout",
     "output_type": "stream",
     "text": [
      "-0.052865918677741694\n"
     ]
    }
   ],
   "source": [
    "print(x.mean)"
   ]
  },
  {
   "cell_type": "code",
   "execution_count": 6,
   "metadata": {},
   "outputs": [
    {
     "name": "stdout",
     "output_type": "stream",
     "text": [
      "0.9948278918903624\n"
     ]
    }
   ],
   "source": [
    "print(x.std)"
   ]
  },
  {
   "cell_type": "code",
   "execution_count": 7,
   "metadata": {},
   "outputs": [
    {
     "name": "stdout",
     "output_type": "stream",
     "text": [
      "0.9896825344830225\n"
     ]
    }
   ],
   "source": [
    "print(x.var)"
   ]
  },
  {
   "cell_type": "markdown",
   "metadata": {},
   "source": [
    "### Confidence Intervals"
   ]
  },
  {
   "cell_type": "code",
   "execution_count": 9,
   "metadata": {},
   "outputs": [
    {
     "data": {
      "text/plain": [
       "(0.8227378265796143, 0.8772621734203857)"
      ]
     },
     "execution_count": 9,
     "metadata": {},
     "output_type": "execute_result"
    }
   ],
   "source": [
    "## Generate CI for a pop propn ##\n",
    "tstar = 1.96\n",
    "\n",
    "# Observer pop propn\n",
    "p = .85\n",
    "\n",
    "# pop size\n",
    "n = 659\n",
    "\n",
    "sm.stats.proportion_confint(n * p, n)"
   ]
  },
  {
   "cell_type": "code",
   "execution_count": 10,
   "metadata": {},
   "outputs": [
    {
     "name": "stdout",
     "output_type": "stream",
     "text": [
      "   ID  Age Gender  GenderGroup Glasses  GlassesGroup  Height  Wingspan  \\\n",
      "0   1   56      F            1       Y             1    62.0      61.0   \n",
      "1   2   26      F            1       Y             1    62.0      60.0   \n",
      "2   3   33      F            1       Y             1    66.0      64.0   \n",
      "3   4   39      F            1       N             0    64.0      63.0   \n",
      "4   5   27      M            2       N             0    73.0      75.0   \n",
      "\n",
      "   CWDistance Complete  CompleteGroup  Score  \n",
      "0          79        Y              1      7  \n",
      "1          70        Y              1      8  \n",
      "2          85        Y              1      7  \n",
      "3          87        Y              1     10  \n",
      "4          72        N              0      4  \n"
     ]
    }
   ],
   "source": [
    "import pandas as pd\n",
    "\n",
    "df = pd.read_csv(\"https://raw.githubusercontent.com/UMstatspy/UMStatsPy/master/Course_1/Cartwheeldata.csv\")\n",
    "\n",
    "print(df.head())"
   ]
  },
  {
   "cell_type": "code",
   "execution_count": 11,
   "metadata": {},
   "outputs": [
    {
     "data": {
      "text/plain": [
       "(76.57715593233026, 88.38284406766975)"
      ]
     },
     "execution_count": 11,
     "metadata": {},
     "output_type": "execute_result"
    }
   ],
   "source": [
    "## Generate CI for a population mean ##\n",
    "sm.stats.DescrStatsW(df['CWDistance']).zconfint_mean()"
   ]
  },
  {
   "cell_type": "markdown",
   "metadata": {},
   "source": [
    "### Hypothesis Testing"
   ]
  },
  {
   "cell_type": "code",
   "execution_count": 12,
   "metadata": {},
   "outputs": [
    {
     "data": {
      "text/plain": [
       "(2.571067795759113, 0.010138547731721065)"
      ]
     },
     "execution_count": 12,
     "metadata": {},
     "output_type": "execute_result"
    }
   ],
   "source": [
    "## 1 pop propn HT ##\n",
    "\n",
    "n = 1018\n",
    "\n",
    "# Null hypo pop propn\n",
    "pnull = .52\n",
    "\n",
    "# Observe pop propn\n",
    "phat = .56\n",
    "\n",
    "# Calculate test statistic and p-value\n",
    "sm.stats.proportions_ztest(phat * n, n, pnull)"
   ]
  },
  {
   "cell_type": "code",
   "execution_count": 13,
   "metadata": {},
   "outputs": [
    {
     "data": {
      "text/plain": [
       "(0.8234523266982029, 0.20512540845395266)"
      ]
     },
     "execution_count": 13,
     "metadata": {},
     "output_type": "execute_result"
    }
   ],
   "source": [
    "# HT for pop mean\n",
    "sm.stats.ztest(df['CWDistance'], value = 80, alternative = 'larger')"
   ]
  },
  {
   "cell_type": "markdown",
   "metadata": {},
   "source": [
    "### OLS, GLM - Generalized Linear Models, GEE - Generalized Estimated Equations, MIZEDLM - Mixed Linear Models (Multilevel Models) - primary sm libraries"
   ]
  },
  {
   "cell_type": "markdown",
   "metadata": {},
   "source": [
    "#### OLS - method for estimating the unknow pmts in a linear regression model. Used when target variable is continuous"
   ]
  },
  {
   "cell_type": "code",
   "execution_count": 14,
   "metadata": {},
   "outputs": [
    {
     "name": "stdout",
     "output_type": "stream",
     "text": [
      "                            OLS Regression Results                            \n",
      "==============================================================================\n",
      "Dep. Variable:                 BPXSY1   R-squared:                       0.215\n",
      "Model:                            OLS   Adj. R-squared:                  0.214\n",
      "Method:                 Least Squares   F-statistic:                     697.4\n",
      "Date:                Sat, 14 Mar 2020   Prob (F-statistic):          1.87e-268\n",
      "Time:                        12:01:09   Log-Likelihood:                -21505.\n",
      "No. Observations:                5102   AIC:                         4.302e+04\n",
      "Df Residuals:                    5099   BIC:                         4.304e+04\n",
      "Df Model:                           2                                         \n",
      "Covariance Type:            nonrobust                                         \n",
      "=====================================================================================\n",
      "                        coef    std err          t      P>|t|      [0.025      0.975]\n",
      "-------------------------------------------------------------------------------------\n",
      "Intercept           100.6305      0.712    141.257      0.000      99.234     102.027\n",
      "RIAGENDRx[T.Male]     3.2322      0.459      7.040      0.000       2.332       4.132\n",
      "RIDAGEYR              0.4739      0.013     36.518      0.000       0.448       0.499\n",
      "==============================================================================\n",
      "Omnibus:                      706.732   Durbin-Watson:                   2.036\n",
      "Prob(Omnibus):                  0.000   Jarque-Bera (JB):             1582.730\n",
      "Skew:                           0.818   Prob(JB):                         0.00\n",
      "Kurtosis:                       5.184   Cond. No.                         168.\n",
      "==============================================================================\n",
      "\n",
      "Warnings:\n",
      "[1] Standard Errors assume that the covariance matrix of the errors is correctly specified.\n"
     ]
    }
   ],
   "source": [
    "da = pd.read_csv('data/nhanes_2015_2016.csv')\n",
    "\n",
    "# Drop unused columns, drop rows with any missing values.\n",
    "vars = [\"BPXSY1\", \"RIDAGEYR\", \"RIAGENDR\", \"RIDRETH1\", \"DMDEDUC2\", \"BMXBMI\",\n",
    "        \"SMQ020\", \"SDMVSTRA\", \"SDMVPSU\"]\n",
    "da = da[vars].dropna()\n",
    "\n",
    "da['RIAGENDRx'] = da.RIAGENDR.replace({1: 'Male', 2: 'Female'})\n",
    "\n",
    "# BPXSY1 - target var; continuous var that represents BP\n",
    "# RIDAGEYR, RIAGENDRx - predictors\n",
    "model = sm.OLS.from_formula('BPXSY1 ~ RIDAGEYR + RIAGENDRx', data=da)\n",
    "res = model.fit()\n",
    "print(res.summary())"
   ]
  },
  {
   "cell_type": "markdown",
   "metadata": {},
   "source": [
    "#### GLM - Generalized Linear Model. Using here for Logistic Regression - when target variable is binary outcome, or a classification of two groups, which can be denoted as group 0 and group 1."
   ]
  },
  {
   "cell_type": "code",
   "execution_count": 15,
   "metadata": {},
   "outputs": [
    {
     "name": "stdout",
     "output_type": "stream",
     "text": [
      "                 Generalized Linear Model Regression Results                  \n",
      "==============================================================================\n",
      "Dep. Variable:                    smq   No. Observations:                 5094\n",
      "Model:                            GLM   Df Residuals:                     5092\n",
      "Model Family:                Binomial   Df Model:                            1\n",
      "Link Function:                  logit   Scale:                          1.0000\n",
      "Method:                          IRLS   Log-Likelihood:                -3350.6\n",
      "Date:                Sat, 14 Mar 2020   Deviance:                       6701.2\n",
      "Time:                        15:54:04   Pearson chi2:                 5.09e+03\n",
      "No. Iterations:                     4                                         \n",
      "Covariance Type:            nonrobust                                         \n",
      "=====================================================================================\n",
      "                        coef    std err          z      P>|z|      [0.025      0.975]\n",
      "-------------------------------------------------------------------------------------\n",
      "Intercept            -0.7547      0.042    -18.071      0.000      -0.837      -0.673\n",
      "RIAGENDRx[T.Male]     0.8851      0.058     15.227      0.000       0.771       0.999\n",
      "=====================================================================================\n"
     ]
    }
   ],
   "source": [
    "da['smq'] = da.SMQ020.replace({2: 0, 7: np.nan, 9: np.nan})\n",
    "model = sm.GLM.from_formula('smq ~ RIAGENDRx', family=sm.families.Binomial(), data=da)\n",
    "res = model.fit()\n",
    "print(res.summary())"
   ]
  },
  {
   "cell_type": "markdown",
   "metadata": {},
   "source": [
    "#### Generalized Estimated Equations - estimate generalized linear models for panel, cluster or repeated measures data when the observations are possibly correlated within a cluster but uncorrelated across clusters"
   ]
  },
  {
   "cell_type": "code",
   "execution_count": 20,
   "metadata": {},
   "outputs": [
    {
     "name": "stdout",
     "output_type": "stream",
     "text": [
      "The correlation between two observations in the same cluster is 0.030\n"
     ]
    }
   ],
   "source": [
    "da['group'] = 10 * da.SDMVSTRA + da.SDMVPSU\n",
    "model = sm.GEE.from_formula('BPXSY1 ~ 1', groups='group', cov_struct = sm.cov_struct.Exchangeable(), data=da)\n",
    "res = model.fit()\n",
    "print(res.cov_struct.summary())"
   ]
  },
  {
   "cell_type": "markdown",
   "metadata": {},
   "source": [
    "#### Multilevel Models - Similarly to GEEs, we use multilevel models when there is potential for outcomes to be grouped together which is not uncommon when using various sampling methods to collect data."
   ]
  },
  {
   "cell_type": "code",
   "execution_count": 21,
   "metadata": {},
   "outputs": [
    {
     "name": "stdout",
     "output_type": "stream",
     "text": [
      "BPXSY1 The correlation between two observations in the same cluster is 0.030\n",
      "RIDAGEYR The correlation between two observations in the same cluster is 0.035\n",
      "BMXBMI The correlation between two observations in the same cluster is 0.039\n",
      "smq The correlation between two observations in the same cluster is 0.026\n",
      "SDMVSTRA The correlation between two observations in the same cluster is 0.959\n"
     ]
    }
   ],
   "source": [
    "for v in [\"BPXSY1\", \"RIDAGEYR\", \"BMXBMI\", \"smq\", \"SDMVSTRA\"]:\n",
    "    model = sm.GEE.from_formula(v + '~ 1', groups='group',\n",
    "                               cov_struct=sm.cov_struct.Exchangeable(), data=da)\n",
    "    result=model.fit()\n",
    "    print(v, result.cov_struct.summary())"
   ]
  },
  {
   "cell_type": "code",
   "execution_count": null,
   "metadata": {},
   "outputs": [],
   "source": [
    "print(df['gro'])"
   ]
  }
 ],
 "metadata": {
  "kernelspec": {
   "display_name": "ds_tutorials",
   "language": "python",
   "name": "ds_tutorials"
  },
  "language_info": {
   "codemirror_mode": {
    "name": "ipython",
    "version": 3
   },
   "file_extension": ".py",
   "mimetype": "text/x-python",
   "name": "python",
   "nbconvert_exporter": "python",
   "pygments_lexer": "ipython3",
   "version": "3.8.1"
  }
 },
 "nbformat": 4,
 "nbformat_minor": 4
}
